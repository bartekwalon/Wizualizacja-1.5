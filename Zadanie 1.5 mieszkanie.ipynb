{
 "cells": [
  {
   "cell_type": "code",
   "execution_count": 9,
   "id": "respected-squad",
   "metadata": {},
   "outputs": [],
   "source": [
    "import numpy as np\n",
    "import matplotlib.pyplot as plt\n",
    "\n",
    "current_price = 120000\n",
    "years = 5\n",
    "price_rate = 0.05\n",
    "rate = 0.12\n",
    "freq = 12"
   ]
  },
  {
   "cell_type": "markdown",
   "id": "worse-endorsement",
   "metadata": {},
   "source": [
    "a) cena mieszkania po 5 latach:"
   ]
  },
  {
   "cell_type": "code",
   "execution_count": 10,
   "id": "nominated-router",
   "metadata": {},
   "outputs": [
    {
     "data": {
      "text/plain": [
       "153200.0"
      ]
     },
     "execution_count": 10,
     "metadata": {},
     "output_type": "execute_result"
    }
   ],
   "source": [
    "current_price = current_price*(1 + price_rate)**years\n",
    "np.round(current_price, -2)"
   ]
  },
  {
   "cell_type": "markdown",
   "id": "interested-cancellation",
   "metadata": {},
   "source": [
    "Oprocentowanie miesięczne:"
   ]
  },
  {
   "cell_type": "code",
   "execution_count": 11,
   "id": "desperate-james",
   "metadata": {},
   "outputs": [
    {
     "data": {
      "text/plain": [
       "0.01"
      ]
     },
     "execution_count": 11,
     "metadata": {},
     "output_type": "execute_result"
    }
   ],
   "source": [
    "rate = rate / freq\n",
    "rate"
   ]
  },
  {
   "cell_type": "markdown",
   "id": "heavy-pulse",
   "metadata": {},
   "source": [
    "Okres kapitsalizacji odsetek:"
   ]
  },
  {
   "cell_type": "code",
   "execution_count": 12,
   "id": "elder-block",
   "metadata": {},
   "outputs": [
    {
     "data": {
      "text/plain": [
       "60"
      ]
     },
     "execution_count": 12,
     "metadata": {},
     "output_type": "execute_result"
    }
   ],
   "source": [
    "nper = years * freq\n",
    "nper"
   ]
  },
  {
   "cell_type": "markdown",
   "id": "previous-russell",
   "metadata": {},
   "source": [
    "Wektor z miesięcznymi okresami kapitalizacji odsetek:"
   ]
  },
  {
   "cell_type": "code",
   "execution_count": 13,
   "id": "final-secondary",
   "metadata": {},
   "outputs": [
    {
     "data": {
      "text/plain": [
       "array([ 1,  2,  3,  4,  5,  6,  7,  8,  9, 10, 11, 12, 13, 14, 15, 16, 17,\n",
       "       18, 19, 20, 21, 22, 23, 24, 25, 26, 27, 28, 29, 30, 31, 32, 33, 34,\n",
       "       35, 36, 37, 38, 39, 40, 41, 42, 43, 44, 45, 46, 47, 48, 49, 50, 51,\n",
       "       52, 53, 54, 55, 56, 57, 58, 59, 60])"
      ]
     },
     "execution_count": 13,
     "metadata": {},
     "output_type": "execute_result"
    }
   ],
   "source": [
    "periods = np.arange(1,nper+1,dtype=int)\n",
    "periods"
   ]
  },
  {
   "cell_type": "code",
   "execution_count": 14,
   "id": "turkish-charger",
   "metadata": {},
   "outputs": [
    {
     "data": {
      "text/plain": [
       "array([1.01      , 1.0201    , 1.030301  , 1.04060401, 1.05101005,\n",
       "       1.06152015, 1.07213535, 1.08285671, 1.09368527, 1.10462213,\n",
       "       1.11566835, 1.12682503, 1.13809328, 1.14947421, 1.16096896,\n",
       "       1.17257864, 1.18430443, 1.19614748, 1.20810895, 1.22019004,\n",
       "       1.23239194, 1.24471586, 1.25716302, 1.26973465, 1.282432  ,\n",
       "       1.29525631, 1.30820888, 1.32129097, 1.33450388, 1.34784892,\n",
       "       1.3613274 , 1.37494068, 1.38869009, 1.40257699, 1.41660276,\n",
       "       1.43076878, 1.44507647, 1.45952724, 1.47412251, 1.48886373,\n",
       "       1.50375237, 1.51878989, 1.53397779, 1.54931757, 1.56481075,\n",
       "       1.58045885, 1.59626344, 1.61222608, 1.62834834, 1.64463182,\n",
       "       1.66107814, 1.67768892, 1.69446581, 1.71141047, 1.72852457,\n",
       "       1.74580982, 1.76326792, 1.7809006 , 1.7987096 , 1.8166967 ])"
      ]
     },
     "execution_count": 14,
     "metadata": {},
     "output_type": "execute_result"
    }
   ],
   "source": [
    "multiplier = np.zeros(nper) + (1 + rate)**periods\n",
    "multiplier"
   ]
  },
  {
   "cell_type": "code",
   "execution_count": 15,
   "id": "liked-crack",
   "metadata": {},
   "outputs": [
    {
     "data": {
      "text/plain": [
       "array([ 1.01      ,  2.0301    ,  3.060401  ,  4.10100501,  5.15201506,\n",
       "        6.21353521,  7.28567056,  8.36852727,  9.46221254, 10.56683467,\n",
       "       11.68250301, 12.80932804, 13.94742132, 15.09689554, 16.25786449,\n",
       "       17.43044314, 18.61474757, 19.81089504, 21.01900399, 22.23919403,\n",
       "       23.47158598, 24.71630183, 25.97346485, 27.2431995 , 28.5256315 ,\n",
       "       29.82088781, 31.12909669, 32.45038766, 33.78489153, 35.13274045,\n",
       "       36.49406785, 37.86900853, 39.25769862, 40.6602756 , 42.07687836,\n",
       "       43.50764714, 44.95272361, 46.41225085, 47.88637336, 49.37523709,\n",
       "       50.87898946, 52.39777936, 53.93175715, 55.48107472, 57.04588547,\n",
       "       58.62634432, 60.22260777, 61.83483385, 63.46318218, 65.10781401,\n",
       "       66.76889215, 68.44658107, 70.14104688, 71.85245735, 73.58098192,\n",
       "       75.32679174, 77.09005966, 78.87096025, 80.66966986, 82.48636655])"
      ]
     },
     "execution_count": 15,
     "metadata": {},
     "output_type": "execute_result"
    }
   ],
   "source": [
    "multiplier_cumulative = np.cumsum(multiplier)\n",
    "multiplier_cumulative"
   ]
  },
  {
   "cell_type": "markdown",
   "id": "happy-jerusalem",
   "metadata": {},
   "source": [
    "b) Kwota, jaką trzeba wpłacić do banku każdego miesiąca, aby przy przedstawionej ofercie uzbierać na mieszkanie w ciągu 5 lat:"
   ]
  },
  {
   "cell_type": "code",
   "execution_count": 16,
   "id": "identical-advantage",
   "metadata": {},
   "outputs": [
    {
     "data": {
      "text/plain": [
       "1856.72"
      ]
     },
     "execution_count": 16,
     "metadata": {},
     "output_type": "execute_result"
    }
   ],
   "source": [
    "payment = np.around(current_price / multiplier_cumulative[-1], 2)\n",
    "payment"
   ]
  },
  {
   "cell_type": "markdown",
   "id": "jewish-teens",
   "metadata": {},
   "source": [
    "Wektor wzrostu lokaty:"
   ]
  },
  {
   "cell_type": "code",
   "execution_count": 17,
   "id": "delayed-racing",
   "metadata": {},
   "outputs": [
    {
     "data": {
      "text/plain": [
       "array([  1875.29,   3769.33,   5682.31,   7614.42,   9565.85,  11536.8 ,\n",
       "        13527.45,  15538.01,  17568.68,  19619.65,  21691.14,  23783.34,\n",
       "        25896.46,  28030.71,  30186.3 ,  32363.45,  34562.37,  36783.29,\n",
       "        39026.41,  41291.96,  43580.16,  45891.25,  48225.45,  50582.99,\n",
       "        52964.11,  55369.04,  57798.02,  60251.28,  62729.08,  65231.66,\n",
       "        67759.27,  70312.15,  72890.55,  75494.75,  78124.98,  80781.52,\n",
       "        83464.62,  86174.55,  88911.59,  91675.99,  94468.04,  97288.  ,\n",
       "       100136.17, 103012.82, 105918.24, 108852.71, 111816.52, 114809.97,\n",
       "       117833.36, 120886.98, 123971.14, 127086.14, 130232.28, 133409.89,\n",
       "       136619.28, 139860.76, 143134.66, 146441.29, 149780.99, 153154.09])"
      ]
     },
     "execution_count": 17,
     "metadata": {},
     "output_type": "execute_result"
    }
   ],
   "source": [
    "deposit = np.around(multiplier_cumulative * payment, 2)\n",
    "deposit"
   ]
  },
  {
   "cell_type": "markdown",
   "id": "weekly-community",
   "metadata": {},
   "source": [
    "Mnożnik comiesięcznego wzrostu wartości mieszkania:"
   ]
  },
  {
   "cell_type": "code",
   "execution_count": 18,
   "id": "corrected-volume",
   "metadata": {},
   "outputs": [
    {
     "data": {
      "text/plain": [
       "array([1.00416667, 1.00835069, 1.01255216, 1.01677112, 1.02100767,\n",
       "       1.02526187, 1.02953379, 1.03382352, 1.03813111, 1.04245666,\n",
       "       1.04680023, 1.0511619 , 1.05554174, 1.05993983, 1.06435625,\n",
       "       1.06879106, 1.07324436, 1.07771621, 1.0822067 , 1.08671589,\n",
       "       1.09124387, 1.09579072, 1.10035652, 1.10494134, 1.10954526,\n",
       "       1.11416836, 1.11881073, 1.12347244, 1.12815358, 1.13285422,\n",
       "       1.13757444, 1.14231434, 1.14707398, 1.15185346, 1.15665284,\n",
       "       1.16147223, 1.1663117 , 1.17117133, 1.17605121, 1.18095142,\n",
       "       1.18587206, 1.19081319, 1.19577491, 1.20075731, 1.20576046,\n",
       "       1.21078446, 1.2158294 , 1.22089536, 1.22598242, 1.23109068,\n",
       "       1.23622022, 1.24137114, 1.24654352, 1.25173745, 1.25695302,\n",
       "       1.26219033, 1.26744946, 1.2727305 , 1.27803354, 1.28335868])"
      ]
     },
     "execution_count": 18,
     "metadata": {},
     "output_type": "execute_result"
    }
   ],
   "source": [
    "flat_price = 120000\n",
    "\n",
    "multiplier_flat = np.zeros(nper) + (1 + price_rate/freq)**periods\n",
    "multiplier_flat"
   ]
  },
  {
   "cell_type": "markdown",
   "id": "naked-application",
   "metadata": {},
   "source": [
    "Wzrost ceny mieszkania (kapitalizacja miesieczna):"
   ]
  },
  {
   "cell_type": "code",
   "execution_count": 19,
   "id": "passing-seafood",
   "metadata": {},
   "outputs": [
    {
     "data": {
      "text/plain": [
       "array([120500., 121000., 121500., 122000., 122500., 123000., 123500.,\n",
       "       124100., 124600., 125100., 125600., 126100., 126700., 127200.,\n",
       "       127700., 128300., 128800., 129300., 129900., 130400., 130900.,\n",
       "       131500., 132000., 132600., 133100., 133700., 134300., 134800.,\n",
       "       135400., 135900., 136500., 137100., 137600., 138200., 138800.,\n",
       "       139400., 140000., 140500., 141100., 141700., 142300., 142900.,\n",
       "       143500., 144100., 144700., 145300., 145900., 146500., 147100.,\n",
       "       147700., 148300., 149000., 149600., 150200., 150800., 151500.,\n",
       "       152100., 152700., 153400., 154000.])"
      ]
     },
     "execution_count": 19,
     "metadata": {},
     "output_type": "execute_result"
    }
   ],
   "source": [
    "future_flat_price = np.around(multiplier_flat * flat_price, -2)\n",
    "future_flat_price"
   ]
  },
  {
   "cell_type": "markdown",
   "id": "loved-savage",
   "metadata": {},
   "source": [
    "c) Wykres przedstawiający jak w interwałach miesięcznych zmieniać się będzie cena mieszkania oraz wartość lokaty:"
   ]
  },
  {
   "cell_type": "code",
   "execution_count": 22,
   "id": "double-process",
   "metadata": {},
   "outputs": [
    {
     "data": {
      "text/plain": [
       "Text(0, 0.5, 'Skumulowana wartość odsetek')"
      ]
     },
     "execution_count": 22,
     "metadata": {},
     "output_type": "execute_result"
    },
    {
     "data": {
      "image/png": "[encoded data removed]",
      "text/plain": [
       "<Figure size 432x288 with 1 Axes>"
      ]
     },
     "metadata": {
      "needs_background": "light"
     },
     "output_type": "display_data"
    }
   ],
   "source": [
    "plt.plot(deposit,label='wartość lokaty')\n",
    "plt.plot(future_flat_price,label='wartość mieszkania')\n",
    "plt.legend()\n",
    "plt.xlabel('Liczba okresów')\n",
    "plt.ylabel('Skumulowana wartość odsetek')"
   ]
  },
  {
   "cell_type": "code",
   "execution_count": null,
   "id": "documented-catalog",
   "metadata": {},
   "outputs": [],
   "source": []
  }
 ],
 "metadata": {
  "kernelspec": {
   "display_name": "Python 3",
   "language": "python",
   "name": "python3"
  },
  "language_info": {
   "codemirror_mode": {
    "name": "ipython",
    "version": 3
   },
   "file_extension": ".py",
   "mimetype": "text/x-python",
   "name": "python",
   "nbconvert_exporter": "python",
   "pygments_lexer": "ipython3",
   "version": "3.9.1"
  }
 },
 "nbformat": 4,
 "nbformat_minor": 5
}
